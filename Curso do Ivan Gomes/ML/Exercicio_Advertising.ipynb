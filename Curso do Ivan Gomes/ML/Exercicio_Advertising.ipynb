{
 "cells": [
  {
   "cell_type": "code",
   "execution_count": 1,
   "metadata": {},
   "outputs": [],
   "source": [
    "import pandas as pd\n",
    "from sklearn.model_selection import train_test_split\n",
    "from sklearn.linear_model import LinearRegression\n",
    "from sklearn import metrics\n",
    "import numpy as np"
   ]
  },
  {
   "cell_type": "code",
   "execution_count": 2,
   "metadata": {},
   "outputs": [],
   "source": [
    "tests = [['TV', 'radio', 'newspaper'],['TV', 'radio'],['TV', 'newspaper'],['radio', 'newspaper']]\n",
    "winner = {'test': '','Performance': None}\n",
    "first_pass = True"
   ]
  },
  {
   "cell_type": "code",
   "execution_count": 3,
   "metadata": {},
   "outputs": [],
   "source": [
    "publi = pd.read_csv('http://faculty.marshall.usc.edu/gareth-james/ISL/Advertising.csv',index_col=0)"
   ]
  },
  {
   "cell_type": "code",
   "execution_count": 5,
   "metadata": {},
   "outputs": [
    {
     "name": "stdout",
     "output_type": "stream",
     "text": [
      "Test: \n",
      "['TV', 'radio', 'newspaper']\n",
      "Performance: \n",
      "1.7572426493151376\n",
      "--------------\n",
      "Test: \n",
      "['TV', 'radio']\n",
      "Performance: \n",
      "1.749077978369464\n",
      "--------------\n",
      "Test: \n",
      "['TV', 'newspaper']\n",
      "Performance: \n",
      "3.1883436588814025\n",
      "--------------\n",
      "Test: \n",
      "['radio', 'newspaper']\n",
      "Performance: \n",
      "4.341146899772356\n",
      "--------------\n"
     ]
    }
   ],
   "source": [
    "for test in tests:\n",
    "    x = publi[test]\n",
    "    y = publi['sales']\n",
    "    x_train, x_test, y_train, y_test = train_test_split(x, y, test_size=0.50, random_state=5)\n",
    "    reglin = LinearRegression()\n",
    "    reglin.fit(x_train, y_train)\n",
    "    y_prev = reglin.predict(x_test)\n",
    "    rmse = np.sqrt(metrics.mean_squared_error(y_test,y_prev))\n",
    "    print('Test: ')\n",
    "    print(test)\n",
    "    print('Performance: ')\n",
    "    print(rmse)\n",
    "    print('--------------')\n",
    "    if (first_pass):\n",
    "        winner['test'] = test\n",
    "        winner['performance'] = rmse\n",
    "        first_pass = False\n",
    "    else:\n",
    "        if (rmse < winner['performance']):\n",
    "            winner['test'] = test\n",
    "            winner['performance'] = rmse"
   ]
  },
  {
   "cell_type": "code",
   "execution_count": 6,
   "metadata": {},
   "outputs": [
    {
     "name": "stdout",
     "output_type": "stream",
     "text": [
      "--------------\n",
      "Winner: \n",
      "['TV', 'radio']\n",
      "Winner's Performance:\n",
      "1.749077978369464\n"
     ]
    }
   ],
   "source": [
    "print('--------------')\n",
    "print('Winner: ')\n",
    "print(winner['test'])\n",
    "print(\"Winner's Performance:\")\n",
    "print(winner['performance'])"
   ]
  },
  {
   "cell_type": "code",
   "execution_count": null,
   "metadata": {},
   "outputs": [],
   "source": []
  }
 ],
 "metadata": {
  "kernelspec": {
   "display_name": "Python 3",
   "language": "python",
   "name": "python3"
  },
  "language_info": {
   "codemirror_mode": {
    "name": "ipython",
    "version": 3
   },
   "file_extension": ".py",
   "mimetype": "text/x-python",
   "name": "python",
   "nbconvert_exporter": "python",
   "pygments_lexer": "ipython3",
   "version": "3.7.5"
  }
 },
 "nbformat": 4,
 "nbformat_minor": 2
}
